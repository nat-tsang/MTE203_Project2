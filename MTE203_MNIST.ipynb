{
  "nbformat": 4,
  "nbformat_minor": 0,
  "metadata": {
    "colab": {
      "provenance": [],
      "authorship_tag": "ABX9TyNcVsU3MIJ93H/W2Hu2FI7/",
      "include_colab_link": true
    },
    "kernelspec": {
      "name": "python3",
      "display_name": "Python 3"
    },
    "language_info": {
      "name": "python"
    }
  },
  "cells": [
    {
      "cell_type": "markdown",
      "metadata": {
        "id": "view-in-github",
        "colab_type": "text"
      },
      "source": [
        "<a href=\"https://colab.research.google.com/github/nat-tsang/MTE203_Project2/blob/main/MTE203_MNIST.ipynb\" target=\"_parent\"><img src=\"https://colab.research.google.com/assets/colab-badge.svg\" alt=\"Open In Colab\"/></a>"
      ]
    },
    {
      "cell_type": "code",
      "execution_count": null,
      "metadata": {
        "id": "c7ZydDs_sctA"
      },
      "outputs": [],
      "source": [
        "import numpy as np\n",
        "import matplotlib.pyplot as plt\n",
        "\n",
        "import tensorflow as tf\n",
        "from tensorflow.keras.datasets import mnist"
      ]
    },
    {
      "cell_type": "code",
      "source": [
        "(train_images, train_labels), (test_images, test_labels) = mnist.load_data()\n",
        "\n",
        "class_names = ['0', '1', '2', '3', '4',\n",
        "               '5', '6', '7', '8', '9']\n",
        "plt.figure(figsize=(10,10))\n",
        "for i in range(9):\n",
        "    plt.subplot(3,3,i+1)\n",
        "    plt.xticks([])\n",
        "    plt.yticks([])\n",
        "    plt.grid(False)\n",
        "    plt.imshow(train_images[i])\n",
        "    plt.xlabel(class_names[train_labels[i]])\n",
        "plt.show()\n",
        "\n",
        "train_images = train_images.reshape((60000, 28 * 28)).astype('float32') / 255\n",
        "test_images = test_images.reshape((10000, 28 * 28)).astype('float32') / 255\n",
        "train_labels = tf.one_hot(train_labels, 10)\n",
        "test_labels = tf.one_hot(test_labels, 10)"
      ],
      "metadata": {
        "id": "4b6-pwLLs9D_",
        "colab": {
          "base_uri": "https://localhost:8080/",
          "height": 861
        },
        "outputId": "1ea24fc1-f922-4d78-cba8-9efba6d5e051"
      },
      "execution_count": null,
      "outputs": [
        {
          "output_type": "stream",
          "name": "stdout",
          "text": [
            "Downloading data from https://storage.googleapis.com/tensorflow/tf-keras-datasets/mnist.npz\n",
            "11490434/11490434 [==============================] - 0s 0us/step\n"
          ]
        },
        {
          "output_type": "display_data",
          "data": {
            "text/plain": [
              "<Figure size 1000x1000 with 9 Axes>"
            ],
            "image/png": "[encoded data removed]"
          },
          "metadata": {}
        }
      ]
    },
    {
      "cell_type": "code",
      "source": [
        "input_size = 784  # 28x28 images flattened\n",
        "hidden_sizes = [128]\n",
        "output_size = 10  # 10 classes (digits 0-9)\n",
        "learning_rate = 2\n",
        "num_epochs = 200"
      ],
      "metadata": {
        "id": "PGXlg_TruK-B"
      },
      "execution_count": null,
      "outputs": []
    },
    {
      "cell_type": "code",
      "source": [
        "def initialize_parameters(input_size, hidden_sizes, output_size):\n",
        "    parameters = {}\n",
        "    layer_sizes = [input_size] + hidden_sizes + [output_size]\n",
        "\n",
        "    for i in range(1, len(layer_sizes)):\n",
        "        parameters[f'W{i}'] = np.random.randn(layer_sizes[i - 1], layer_sizes[i]) * 0.01\n",
        "        parameters[f'b{i}'] = np.zeros((1, layer_sizes[i]))\n",
        "\n",
        "    return parameters"
      ],
      "metadata": {
        "id": "HjefivM2vHPW"
      },
      "execution_count": null,
      "outputs": []
    },
    {
      "cell_type": "code",
      "source": [
        "def sigmoid(x):\n",
        "  return 1/(1 + np.exp(-x))\n",
        "\n",
        "def relu(x):\n",
        "  return np.maximum(0,x)\n",
        "\n",
        "def softmax(x):\n",
        "    exp_x = np.exp(x - np.max(x, axis=1, keepdims=True))\n",
        "    return exp_x / exp_x.sum(axis=1, keepdims=True)"
      ],
      "metadata": {
        "id": "EYnR9UvSxL7N"
      },
      "execution_count": null,
      "outputs": []
    },
    {
      "cell_type": "code",
      "source": [
        "def forward(X, parameters):\n",
        "    cache = {'A0': X}\n",
        "\n",
        "    for i in range(1, len(parameters) // 2 + 1):\n",
        "        Z = np.dot(cache[f'A{i-1}'], parameters[f'W{i}']) + parameters[f'b{i}']\n",
        "        A = sigmoid(Z)\n",
        "\n",
        "        cache[f'Z{i}'] = Z\n",
        "        cache[f'A{i}'] = A\n",
        "\n",
        "    return cache"
      ],
      "metadata": {
        "id": "19_Y_TbJWLYt"
      },
      "execution_count": null,
      "outputs": []
    },
    {
      "cell_type": "code",
      "source": [
        "def backward(X, Y, cache, parameters, learning_rate):\n",
        "    m = X.shape[0]  # Number of training examples\n",
        "    gradients = {}\n",
        "\n",
        "    A_output = cache['A' + str(len(parameters) // 2)]\n",
        "\n",
        "    # Compute the gradient of the output layer\n",
        "    dZ = A_output - Y\n",
        "    dW = np.dot(cache['A' + str(len(parameters) // 2 - 1)].T, dZ) / m\n",
        "    db = np.sum(dZ, axis=0, keepdims=True) / m\n",
        "\n",
        "    gradients['dZ' + str(len(parameters) // 2)] = dZ\n",
        "    gradients['dW' + str(len(parameters) // 2)] = dW\n",
        "    gradients['db' + str(len(parameters) // 2)] = db\n",
        "\n",
        "    # Compute the gradient for hidden layers\n",
        "    for l in range(len(parameters) // 2 - 1, 0, -1):\n",
        "        dZ = np.dot(gradients['dZ' + str(l + 1)], parameters['W' + str(l + 1)].T) * cache['A' + str(l)] * (1 - cache['A' + str(l)])\n",
        "        dW = np.dot(cache['A' + str(l - 1)].T, dZ) / m\n",
        "        db = np.sum(dZ, axis=0, keepdims=True) / m\n",
        "\n",
        "        gradients['dZ' + str(l)] = dZ\n",
        "        gradients['dW' + str(l)] = dW\n",
        "        gradients['db' + str(l)] = db\n",
        "\n",
        "    # Update weights(parameters) using the gradients\n",
        "    for l in range(1, len(parameters) // 2 + 1):\n",
        "        parameters['W' + str(l)] -= learning_rate * gradients['dW' + str(l)]\n",
        "        parameters['b' + str(l)] -= learning_rate * gradients['db' + str(l)]\n",
        "\n",
        "    return parameters"
      ],
      "metadata": {
        "id": "9G5QcaWbpzcu"
      },
      "execution_count": null,
      "outputs": []
    },
    {
      "cell_type": "code",
      "source": [
        "def compute_loss(y, y_pred):\n",
        "    epsilon = 1e-15\n",
        "    Y_pred = np.clip(y_pred, epsilon, 1 - epsilon)\n",
        "    return -np.sum(y * np.log(y_pred)) / len(y)"
      ],
      "metadata": {
        "id": "yBptT4O52cfq"
      },
      "execution_count": null,
      "outputs": []
    },
    {
      "cell_type": "code",
      "source": [
        "def train(X, Y, input_size, hidden_size, output_size, learning_rate, num_epochs):\n",
        "    parameters = initialize_parameters(input_size, hidden_size, output_size)\n",
        "\n",
        "    for epoch in range(num_epochs):\n",
        "        cache = forward(X, parameters)\n",
        "        loss = compute_loss(Y, cache['A' + str(len(parameters)//2)])\n",
        "        parameters = backward(X, Y, cache, parameters, learning_rate)\n",
        "        if (epoch + 1) % 10 == 0:\n",
        "            predicted_labels = np.argmax(cache['A'+str(len(hidden_size)+1)], axis=1)\n",
        "            accuracy = np.mean(predicted_labels == np.argmax(Y, axis=1)) * 100\n",
        "            print(f'Epoch [{epoch + 1}/{num_epochs}], Accuracy: {accuracy:.2f}%, Loss: {loss:.4f}%')\n",
        "\n",
        "    return parameters"
      ],
      "metadata": {
        "id": "hvCcrtPws4oM"
      },
      "execution_count": null,
      "outputs": []
    },
    {
      "cell_type": "code",
      "source": [
        "trained_parameters = train(train_images, train_labels, input_size, hidden_sizes, output_size, learning_rate, num_epochs)"
      ],
      "metadata": {
        "id": "uo0oyeIbs9b5",
        "colab": {
          "base_uri": "https://localhost:8080/"
        },
        "outputId": "f2920040-56ab-4f3f-ad8f-1a30be0e1ec1"
      },
      "execution_count": null,
      "outputs": [
        {
          "output_type": "stream",
          "name": "stdout",
          "text": [
            "Epoch [10/200], Accuracy: 11.24%, Loss: 2.1271%\n",
            "Epoch [20/200], Accuracy: 11.24%, Loss: 2.2865%\n",
            "Epoch [30/200], Accuracy: 11.24%, Loss: 2.3015%\n",
            "Epoch [40/200], Accuracy: 11.24%, Loss: 2.3001%\n",
            "Epoch [50/200], Accuracy: 11.24%, Loss: 2.2966%\n",
            "Epoch [60/200], Accuracy: 11.24%, Loss: 2.2927%\n",
            "Epoch [70/200], Accuracy: 11.24%, Loss: 2.2884%\n",
            "Epoch [80/200], Accuracy: 11.24%, Loss: 2.2828%\n",
            "Epoch [90/200], Accuracy: 12.77%, Loss: 2.2602%\n",
            "Epoch [100/200], Accuracy: 19.63%, Loss: 2.1422%\n",
            "Epoch [110/200], Accuracy: 25.68%, Loss: 2.0632%\n",
            "Epoch [120/200], Accuracy: 27.44%, Loss: 2.0326%\n",
            "Epoch [130/200], Accuracy: 26.99%, Loss: 2.0183%\n",
            "Epoch [140/200], Accuracy: 26.80%, Loss: 2.0110%\n",
            "Epoch [150/200], Accuracy: 27.43%, Loss: 2.0066%\n",
            "Epoch [160/200], Accuracy: 31.26%, Loss: 2.0053%\n",
            "Epoch [170/200], Accuracy: 29.95%, Loss: 1.9381%\n",
            "Epoch [180/200], Accuracy: 31.98%, Loss: 1.8336%\n",
            "Epoch [190/200], Accuracy: 35.13%, Loss: 1.7691%\n",
            "Epoch [200/200], Accuracy: 39.91%, Loss: 1.6584%\n"
          ]
        }
      ]
    },
    {
      "cell_type": "code",
      "source": [
        "def predict(X, parameters):\n",
        "    cache = forward(X, parameters)\n",
        "    return np.argmax(cache['A2'], axis=1)"
      ],
      "metadata": {
        "id": "PRbIdSOVHlJW"
      },
      "execution_count": null,
      "outputs": []
    },
    {
      "cell_type": "code",
      "source": [
        "test_predictions = predict(test_images, trained_parameters)\n",
        "true_labels = np.argmax(test_labels, axis=1)\n",
        "accuracy = np.mean(test_predictions == true_labels) * 100\n",
        "print(f'Test Accuracy: {accuracy:.2f}%')"
      ],
      "metadata": {
        "id": "tuRUaqccHm41",
        "colab": {
          "base_uri": "https://localhost:8080/"
        },
        "outputId": "7685b41a-63d1-4449-faf3-2cc62ad5ddeb"
      },
      "execution_count": null,
      "outputs": [
        {
          "output_type": "stream",
          "name": "stdout",
          "text": [
            "Test Accuracy: 39.92%\n"
          ]
        }
      ]
    }
  ]
}